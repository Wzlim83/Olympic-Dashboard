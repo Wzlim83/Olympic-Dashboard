{
 "cells": [
  {
   "cell_type": "code",
   "execution_count": 1,
   "id": "4761a4a4-e3b4-4770-8e5b-d3f299a4f6ac",
   "metadata": {},
   "outputs": [],
   "source": [
    "import pandas as pd\n",
    "\n",
    "athletes = pd.read_csv('athlete_events.csv')\n",
    "noc = pd.read_csv('noc_regions.csv')"
   ]
  },
  {
   "cell_type": "code",
   "execution_count": 2,
   "id": "5e70b146-981f-4372-8dae-089690f9e36d",
   "metadata": {},
   "outputs": [
    {
     "name": "stdout",
     "output_type": "stream",
     "text": [
      "athlete_events shape: (271116, 15)\n",
      "noc_regions shape: (230, 3)\n"
     ]
    }
   ],
   "source": [
    "print(f\"athlete_events shape: {athletes.shape}\")\n",
    "print(f\"noc_regions shape: {noc.shape}\")"
   ]
  },
  {
   "cell_type": "code",
   "execution_count": 5,
   "id": "539d6a14-b634-4266-a179-2fc75a589b62",
   "metadata": {},
   "outputs": [
    {
     "name": "stdout",
     "output_type": "stream",
     "text": [
      "   ID                      Name Sex   Age  Height  Weight            Team  \\\n",
      "0   1                 A Dijiang   M  24.0   180.0    80.0           China   \n",
      "1   2                  A Lamusi   M  23.0   170.0    60.0           China   \n",
      "2   3       Gunnar Nielsen Aaby   M  24.0     NaN     NaN         Denmark   \n",
      "3   4      Edgar Lindenau Aabye   M  34.0     NaN     NaN  Denmark/Sweden   \n",
      "4   5  Christine Jacoba Aaftink   F  21.0   185.0    82.0     Netherlands   \n",
      "\n",
      "   NOC        Games  Year  Season       City          Sport  \\\n",
      "0  CHN  1992 Summer  1992  Summer  Barcelona     Basketball   \n",
      "1  CHN  2012 Summer  2012  Summer     London           Judo   \n",
      "2  DEN  1920 Summer  1920  Summer  Antwerpen       Football   \n",
      "3  DEN  1900 Summer  1900  Summer      Paris     Tug-Of-War   \n",
      "4  NED  1988 Winter  1988  Winter    Calgary  Speed Skating   \n",
      "\n",
      "                              Event Medal  \n",
      "0       Basketball Men's Basketball   NaN  \n",
      "1      Judo Men's Extra-Lightweight   NaN  \n",
      "2           Football Men's Football   NaN  \n",
      "3       Tug-Of-War Men's Tug-Of-War  Gold  \n",
      "4  Speed Skating Women's 500 metres   NaN  \n",
      "<class 'pandas.core.frame.DataFrame'>\n",
      "RangeIndex: 271116 entries, 0 to 271115\n",
      "Data columns (total 15 columns):\n",
      " #   Column  Non-Null Count   Dtype  \n",
      "---  ------  --------------   -----  \n",
      " 0   ID      271116 non-null  int64  \n",
      " 1   Name    271116 non-null  object \n",
      " 2   Sex     271116 non-null  object \n",
      " 3   Age     261642 non-null  float64\n",
      " 4   Height  210945 non-null  float64\n",
      " 5   Weight  208241 non-null  float64\n",
      " 6   Team    271116 non-null  object \n",
      " 7   NOC     271116 non-null  object \n",
      " 8   Games   271116 non-null  object \n",
      " 9   Year    271116 non-null  int64  \n",
      " 10  Season  271116 non-null  object \n",
      " 11  City    271116 non-null  object \n",
      " 12  Sport   271116 non-null  object \n",
      " 13  Event   271116 non-null  object \n",
      " 14  Medal   39783 non-null   object \n",
      "dtypes: float64(3), int64(2), object(10)\n",
      "memory usage: 31.0+ MB\n",
      "None\n",
      "                  ID            Age         Height         Weight  \\\n",
      "count  271116.000000  261642.000000  210945.000000  208241.000000   \n",
      "mean    68248.954396      25.556898     175.338970      70.702393   \n",
      "std     39022.286345       6.393561      10.518462      14.348020   \n",
      "min         1.000000      10.000000     127.000000      25.000000   \n",
      "25%     34643.000000      21.000000     168.000000      60.000000   \n",
      "50%     68205.000000      24.000000     175.000000      70.000000   \n",
      "75%    102097.250000      28.000000     183.000000      79.000000   \n",
      "max    135571.000000      97.000000     226.000000     214.000000   \n",
      "\n",
      "                Year  \n",
      "count  271116.000000  \n",
      "mean     1978.378480  \n",
      "std        29.877632  \n",
      "min      1896.000000  \n",
      "25%      1960.000000  \n",
      "50%      1988.000000  \n",
      "75%      2002.000000  \n",
      "max      2016.000000  \n"
     ]
    }
   ],
   "source": [
    "print(athletes.head())\n",
    "print(athletes.info())\n",
    "print(athletes.describe())"
   ]
  },
  {
   "cell_type": "code",
   "execution_count": 6,
   "id": "17d1c8e2-c528-460d-8c69-3ea9042d36b2",
   "metadata": {},
   "outputs": [
    {
     "name": "stdout",
     "output_type": "stream",
     "text": [
      "   NOC       region                 notes\n",
      "0  AFG  Afghanistan                   NaN\n",
      "1  AHO      Curacao  Netherlands Antilles\n",
      "2  ALB      Albania                   NaN\n",
      "3  ALG      Algeria                   NaN\n",
      "4  AND      Andorra                   NaN\n",
      "     NOC    region        notes\n",
      "225  YEM     Yemen          NaN\n",
      "226  YMD     Yemen  South Yemen\n",
      "227  YUG    Serbia   Yugoslavia\n",
      "228  ZAM    Zambia          NaN\n",
      "229  ZIM  Zimbabwe          NaN\n",
      "<class 'pandas.core.frame.DataFrame'>\n",
      "RangeIndex: 230 entries, 0 to 229\n",
      "Data columns (total 3 columns):\n",
      " #   Column  Non-Null Count  Dtype \n",
      "---  ------  --------------  ----- \n",
      " 0   NOC     230 non-null    object\n",
      " 1   region  227 non-null    object\n",
      " 2   notes   21 non-null     object\n",
      "dtypes: object(3)\n",
      "memory usage: 5.5+ KB\n",
      "None\n"
     ]
    }
   ],
   "source": [
    "print(noc.head())\n",
    "print(noc.tail())\n",
    "print(noc.info())"
   ]
  },
  {
   "cell_type": "code",
   "execution_count": 7,
   "id": "bf876b96-0607-4130-a883-e190f6e8bbb6",
   "metadata": {},
   "outputs": [
    {
     "name": "stdout",
     "output_type": "stream",
     "text": [
      "ID             0\n",
      "Name           0\n",
      "Sex            0\n",
      "Age         9474\n",
      "Height     60171\n",
      "Weight     62875\n",
      "Team           0\n",
      "NOC            0\n",
      "Games          0\n",
      "Year           0\n",
      "Season         0\n",
      "City           0\n",
      "Sport          0\n",
      "Event          0\n",
      "Medal     231333\n",
      "dtype: int64\n"
     ]
    }
   ],
   "source": [
    "print(athletes.isnull().sum())"
   ]
  },
  {
   "cell_type": "code",
   "execution_count": 8,
   "id": "38322a99-efc7-4520-8a13-d978efa991cb",
   "metadata": {},
   "outputs": [
    {
     "name": "stdout",
     "output_type": "stream",
     "text": [
      "Missing NOCs (not in noc_regions.csv): {'SGP'}\n"
     ]
    }
   ],
   "source": [
    "noc_athletes = set(athletes['NOC'].unique())\n",
    "noc_master = set(noc['NOC'].unique())\n",
    "\n",
    "missing_nocs = noc_athletes - noc_master\n",
    "\n",
    "print(f\"Missing NOCs (not in noc_regions.csv): {missing_nocs}\")"
   ]
  },
  {
   "cell_type": "code",
   "execution_count": 9,
   "id": "ca9b6cc9-04d3-4eb4-8935-3fb7683d9c93",
   "metadata": {},
   "outputs": [],
   "source": [
    "noc['NOC'] = noc['NOC'].replace({\n",
    "    'SIN': 'SGP'\n",
    "})"
   ]
  },
  {
   "cell_type": "code",
   "execution_count": 10,
   "id": "bd5f7083-16c6-4840-bdaf-33b37724b9b3",
   "metadata": {},
   "outputs": [
    {
     "name": "stdout",
     "output_type": "stream",
     "text": [
      "   ID                      Name Sex   Age  Height  Weight            Team  \\\n",
      "0   1                 A Dijiang   M  24.0   180.0    80.0           China   \n",
      "1   2                  A Lamusi   M  23.0   170.0    60.0           China   \n",
      "2   3       Gunnar Nielsen Aaby   M  24.0     NaN     NaN         Denmark   \n",
      "3   4      Edgar Lindenau Aabye   M  34.0     NaN     NaN  Denmark/Sweden   \n",
      "4   5  Christine Jacoba Aaftink   F  21.0   185.0    82.0     Netherlands   \n",
      "\n",
      "   NOC        Games  Year  Season       City          Sport  \\\n",
      "0  CHN  1992 Summer  1992  Summer  Barcelona     Basketball   \n",
      "1  CHN  2012 Summer  2012  Summer     London           Judo   \n",
      "2  DEN  1920 Summer  1920  Summer  Antwerpen       Football   \n",
      "3  DEN  1900 Summer  1900  Summer      Paris     Tug-Of-War   \n",
      "4  NED  1988 Winter  1988  Winter    Calgary  Speed Skating   \n",
      "\n",
      "                              Event Medal       region notes  \n",
      "0       Basketball Men's Basketball   NaN        China   NaN  \n",
      "1      Judo Men's Extra-Lightweight   NaN        China   NaN  \n",
      "2           Football Men's Football   NaN      Denmark   NaN  \n",
      "3       Tug-Of-War Men's Tug-Of-War  Gold      Denmark   NaN  \n",
      "4  Speed Skating Women's 500 metres   NaN  Netherlands   NaN  \n"
     ]
    }
   ],
   "source": [
    "df = pd.merge(athletes, noc, how='left', on='NOC')\n",
    "print(df.head())"
   ]
  },
  {
   "cell_type": "code",
   "execution_count": 11,
   "id": "c701363a-1d6a-44b1-970e-cbeebe931c07",
   "metadata": {},
   "outputs": [
    {
     "name": "stdout",
     "output_type": "stream",
     "text": [
      "Rows with blank region: 21\n"
     ]
    }
   ],
   "source": [
    "missing_rows = df[df['region'].isnull()]\n",
    "print(f\"Rows with blank region: {missing_rows.shape[0]}\")"
   ]
  },
  {
   "cell_type": "code",
   "execution_count": 12,
   "id": "ac5c0237-8552-45a1-979a-9321803e07fc",
   "metadata": {},
   "outputs": [
    {
     "name": "stdout",
     "output_type": "stream",
     "text": [
      "Blank regions after fill: 0\n"
     ]
    }
   ],
   "source": [
    "df['region'] = df['region'].fillna('Unknown')\n",
    "print(f\"Blank regions after fill: {df['region'].isnull().sum()}\")"
   ]
  },
  {
   "cell_type": "code",
   "execution_count": 15,
   "id": "ce04cc9b-11c0-4cee-b46c-aada52ca3f22",
   "metadata": {},
   "outputs": [],
   "source": [
    "df['Height_Imputed'] = df.groupby(['Sport', 'Sex'])['Height'].transform(lambda x: x.fillna(x.mean()))\n",
    "overall_height_mean = df['Height'].mean()\n",
    "df['Height_Imputed'] = df['Height_Imputed'].fillna(overall_height_mean)"
   ]
  },
  {
   "cell_type": "code",
   "execution_count": 16,
   "id": "02067e55-9c70-4750-ac1b-2ddab741133e",
   "metadata": {},
   "outputs": [],
   "source": [
    "df['Weight_Imputed'] = df.groupby(['Sport', 'Sex'])['Weight'].transform(lambda x: x.fillna(x.mean()))\n",
    "overall_weight_mean = df['Weight'].mean()\n",
    "df['Weight_Imputed'] = df['Weight_Imputed'].fillna(overall_weight_mean)"
   ]
  },
  {
   "cell_type": "code",
   "execution_count": 17,
   "id": "380d4b8b-0d21-4348-8d75-746cbd24957d",
   "metadata": {},
   "outputs": [],
   "source": [
    "df['Age_Imputed'] = df.groupby(['Sport', 'Sex'])['Age'].transform(lambda x: x.fillna(x.mean()))\n",
    "overall_age_mean = df['Age'].mean()\n",
    "df['Age_Imputed'] = df['Age_Imputed'].fillna(overall_age_mean)"
   ]
  },
  {
   "cell_type": "code",
   "execution_count": 18,
   "id": "99c4526c-6f38-4c59-bb1f-ffacebf1262e",
   "metadata": {},
   "outputs": [],
   "source": [
    "df['IsMedalist'] = df['Medal'].notnull().astype(int)"
   ]
  },
  {
   "cell_type": "code",
   "execution_count": 19,
   "id": "0acb2848-1bfd-4258-94cd-33631b3ec4f6",
   "metadata": {},
   "outputs": [
    {
     "name": "stdout",
     "output_type": "stream",
     "text": [
      "   ID                      Name Sex   Age  Height  Weight            Team  \\\n",
      "0   1                 A Dijiang   M  24.0   180.0    80.0           China   \n",
      "1   2                  A Lamusi   M  23.0   170.0    60.0           China   \n",
      "2   3       Gunnar Nielsen Aaby   M  24.0     NaN     NaN         Denmark   \n",
      "3   4      Edgar Lindenau Aabye   M  34.0     NaN     NaN  Denmark/Sweden   \n",
      "4   5  Christine Jacoba Aaftink   F  21.0   185.0    82.0     Netherlands   \n",
      "\n",
      "   NOC        Games  Year  ...       City          Sport  \\\n",
      "0  CHN  1992 Summer  1992  ...  Barcelona     Basketball   \n",
      "1  CHN  2012 Summer  2012  ...     London           Judo   \n",
      "2  DEN  1920 Summer  1920  ...  Antwerpen       Football   \n",
      "3  DEN  1900 Summer  1900  ...      Paris     Tug-Of-War   \n",
      "4  NED  1988 Winter  1988  ...    Calgary  Speed Skating   \n",
      "\n",
      "                              Event Medal       region notes Height_Imputed  \\\n",
      "0       Basketball Men's Basketball   NaN        China   NaN     180.000000   \n",
      "1      Judo Men's Extra-Lightweight   NaN        China   NaN     170.000000   \n",
      "2           Football Men's Football   NaN      Denmark   NaN     177.480339   \n",
      "3       Tug-Of-War Men's Tug-Of-War  Gold      Denmark   NaN     182.480000   \n",
      "4  Speed Skating Women's 500 metres   NaN  Netherlands   NaN     185.000000   \n",
      "\n",
      "   Weight_Imputed  Age_Imputed  IsMedalist  \n",
      "0       80.000000         24.0           0  \n",
      "1       60.000000         23.0           0  \n",
      "2       73.086644         24.0           0  \n",
      "3       95.615385         34.0           1  \n",
      "4       82.000000         21.0           0  \n",
      "\n",
      "[5 rows x 21 columns]\n"
     ]
    }
   ],
   "source": [
    "print(df.head())"
   ]
  },
  {
   "cell_type": "code",
   "execution_count": 56,
   "id": "d771c450-c322-4fe0-9b36-008e0a625b5f",
   "metadata": {},
   "outputs": [
    {
     "name": "stdout",
     "output_type": "stream",
     "text": [
      "        region  Year  Total_Medals\n",
      "0  Afghanistan  2008             1\n",
      "1  Afghanistan  2012             1\n",
      "2      Algeria  1984             2\n",
      "3      Algeria  1992             2\n",
      "4      Algeria  1996             3\n"
     ]
    }
   ],
   "source": [
    "medal_summary = df[df['IsMedalist'] == 1].groupby(['region', 'Year'])['Medal'].count().reset_index()\n",
    "medal_summary.rename(columns={'Medal': 'Total_Medals'}, inplace=True)\n",
    "print(medal_summary.head())"
   ]
  },
  {
   "cell_type": "code",
   "execution_count": 21,
   "id": "b0028ce5-4c2c-4c57-bc66-7d2febc8bd0a",
   "metadata": {},
   "outputs": [
    {
     "name": "stdout",
     "output_type": "stream",
     "text": [
      "   ID                      Name Sex   Age  Height  Weight            Team  \\\n",
      "0   1                 A Dijiang   M  24.0   180.0    80.0           China   \n",
      "1   2                  A Lamusi   M  23.0   170.0    60.0           China   \n",
      "2   3       Gunnar Nielsen Aaby   M  24.0     NaN     NaN         Denmark   \n",
      "3   4      Edgar Lindenau Aabye   M  34.0     NaN     NaN  Denmark/Sweden   \n",
      "4   5  Christine Jacoba Aaftink   F  21.0   185.0    82.0     Netherlands   \n",
      "\n",
      "   NOC        Games  Year  ...       City          Sport  \\\n",
      "0  CHN  1992 Summer  1992  ...  Barcelona     Basketball   \n",
      "1  CHN  2012 Summer  2012  ...     London           Judo   \n",
      "2  DEN  1920 Summer  1920  ...  Antwerpen       Football   \n",
      "3  DEN  1900 Summer  1900  ...      Paris     Tug-Of-War   \n",
      "4  NED  1988 Winter  1988  ...    Calgary  Speed Skating   \n",
      "\n",
      "                              Event Medal       region notes Height_Imputed  \\\n",
      "0       Basketball Men's Basketball   NaN        China   NaN     180.000000   \n",
      "1      Judo Men's Extra-Lightweight   NaN        China   NaN     170.000000   \n",
      "2           Football Men's Football   NaN      Denmark   NaN     177.480339   \n",
      "3       Tug-Of-War Men's Tug-Of-War  Gold      Denmark   NaN     182.480000   \n",
      "4  Speed Skating Women's 500 metres   NaN  Netherlands   NaN     185.000000   \n",
      "\n",
      "   Weight_Imputed  Age_Imputed  IsMedalist  \n",
      "0       80.000000         24.0           0  \n",
      "1       60.000000         23.0           0  \n",
      "2       73.086644         24.0           0  \n",
      "3       95.615385         34.0           1  \n",
      "4       82.000000         21.0           0  \n",
      "\n",
      "[5 rows x 21 columns]\n",
      "Height_Imputed    0\n",
      "Weight_Imputed    0\n",
      "Age_Imputed       0\n",
      "dtype: int64\n"
     ]
    }
   ],
   "source": [
    "print(df.head())\n",
    "print(df[['Height_Imputed', 'Weight_Imputed', 'Age_Imputed']].isnull().sum())"
   ]
  },
  {
   "cell_type": "code",
   "execution_count": 22,
   "id": "7059a2ba-9756-4e98-a7ca-1298900670f7",
   "metadata": {},
   "outputs": [],
   "source": [
    "df.to_csv('athletes_clean.csv', index=False)"
   ]
  }
 ],
 "metadata": {
  "kernelspec": {
   "display_name": "Python 3 (ipykernel)",
   "language": "python",
   "name": "python3"
  },
  "language_info": {
   "codemirror_mode": {
    "name": "ipython",
    "version": 3
   },
   "file_extension": ".py",
   "mimetype": "text/x-python",
   "name": "python",
   "nbconvert_exporter": "python",
   "pygments_lexer": "ipython3",
   "version": "3.12.7"
  }
 },
 "nbformat": 4,
 "nbformat_minor": 5
}
